{
 "cells": [
  {
   "cell_type": "code",
   "execution_count": 98,
   "metadata": {},
   "outputs": [],
   "source": [
    "import numpy as np\n",
    "import pandas as pd\n",
    "from sklearn.decomposition import PCA\n",
    "from sklearn import preprocessing\n",
    "from sklearn.svm import LinearSVC\n",
    "from sklearn.model_selection import GridSearchCV, KFold, train_test_split, validation_curve\n",
    "from sklearn.linear_model import LinearRegression, LogisticRegression, SGDClassifier\n",
    "from sklearn.tree import DecisionTreeClassifier\n",
    "from sklearn.ensemble import AdaBoostClassifier, GradientBoostingClassifier, RandomForestClassifier, VotingClassifier\n",
    "from sklearn.naive_bayes import GaussianNB"
   ]
  },
  {
   "cell_type": "code",
   "execution_count": 99,
   "metadata": {},
   "outputs": [],
   "source": [
    "# Load in training and test set data\n",
    "train = pd.read_csv(\"train.csv\")\n",
    "test = pd.read_csv(\"test.csv\")\n",
    "\n",
    "train = train.fillna(train.mean())\n",
    "test_ids = test['id']\n",
    "test = test.drop(['id'], axis=1)\n",
    "\n",
    "# Replace NaN values with 0\n",
    "# test = test.fillna(0)\n",
    "test = test.fillna(test.mean())"
   ]
  },
  {
   "cell_type": "code",
   "execution_count": 100,
   "metadata": {},
   "outputs": [
    {
     "data": {
      "text/html": [
       "<div>\n",
       "<style scoped>\n",
       "    .dataframe tbody tr th:only-of-type {\n",
       "        vertical-align: middle;\n",
       "    }\n",
       "\n",
       "    .dataframe tbody tr th {\n",
       "        vertical-align: top;\n",
       "    }\n",
       "\n",
       "    .dataframe thead th {\n",
       "        text-align: right;\n",
       "    }\n",
       "</style>\n",
       "<table border=\"1\" class=\"dataframe\">\n",
       "  <thead>\n",
       "    <tr style=\"text-align: right;\">\n",
       "      <th></th>\n",
       "      <th>id</th>\n",
       "      <th>last_price</th>\n",
       "      <th>mid</th>\n",
       "      <th>opened_position_qty</th>\n",
       "      <th>closed_position_qty</th>\n",
       "      <th>transacted_qty</th>\n",
       "      <th>d_open_interest</th>\n",
       "      <th>bid1</th>\n",
       "      <th>bid2</th>\n",
       "      <th>bid3</th>\n",
       "      <th>...</th>\n",
       "      <th>bid2vol</th>\n",
       "      <th>bid3vol</th>\n",
       "      <th>bid4vol</th>\n",
       "      <th>bid5vol</th>\n",
       "      <th>ask1vol</th>\n",
       "      <th>ask2vol</th>\n",
       "      <th>ask3vol</th>\n",
       "      <th>ask4vol</th>\n",
       "      <th>ask5vol</th>\n",
       "      <th>y</th>\n",
       "    </tr>\n",
       "  </thead>\n",
       "  <tbody>\n",
       "    <tr>\n",
       "      <th>0</th>\n",
       "      <td>0</td>\n",
       "      <td>3842.4</td>\n",
       "      <td>3842.6</td>\n",
       "      <td>1.400583</td>\n",
       "      <td>1.964277</td>\n",
       "      <td>103.0</td>\n",
       "      <td>0</td>\n",
       "      <td>3842.4</td>\n",
       "      <td>3842.0</td>\n",
       "      <td>3841.8</td>\n",
       "      <td>...</td>\n",
       "      <td>1</td>\n",
       "      <td>6</td>\n",
       "      <td>14</td>\n",
       "      <td>6</td>\n",
       "      <td>6</td>\n",
       "      <td>1</td>\n",
       "      <td>1</td>\n",
       "      <td>10</td>\n",
       "      <td>2</td>\n",
       "      <td>1</td>\n",
       "    </tr>\n",
       "    <tr>\n",
       "      <th>1</th>\n",
       "      <td>1</td>\n",
       "      <td>3842.8</td>\n",
       "      <td>3843.4</td>\n",
       "      <td>6.000000</td>\n",
       "      <td>49.000000</td>\n",
       "      <td>55.0</td>\n",
       "      <td>-43</td>\n",
       "      <td>3843.0</td>\n",
       "      <td>3842.8</td>\n",
       "      <td>3842.4</td>\n",
       "      <td>...</td>\n",
       "      <td>6</td>\n",
       "      <td>11</td>\n",
       "      <td>1</td>\n",
       "      <td>6</td>\n",
       "      <td>1</td>\n",
       "      <td>4</td>\n",
       "      <td>4</td>\n",
       "      <td>1</td>\n",
       "      <td>13</td>\n",
       "      <td>0</td>\n",
       "    </tr>\n",
       "    <tr>\n",
       "      <th>2</th>\n",
       "      <td>2</td>\n",
       "      <td>3844.0</td>\n",
       "      <td>3844.3</td>\n",
       "      <td>7.000000</td>\n",
       "      <td>77.000000</td>\n",
       "      <td>84.0</td>\n",
       "      <td>-69</td>\n",
       "      <td>3843.8</td>\n",
       "      <td>3843.6</td>\n",
       "      <td>3843.2</td>\n",
       "      <td>...</td>\n",
       "      <td>1</td>\n",
       "      <td>4</td>\n",
       "      <td>21</td>\n",
       "      <td>12</td>\n",
       "      <td>1</td>\n",
       "      <td>16</td>\n",
       "      <td>10</td>\n",
       "      <td>4</td>\n",
       "      <td>9</td>\n",
       "      <td>0</td>\n",
       "    </tr>\n",
       "    <tr>\n",
       "      <th>3</th>\n",
       "      <td>3</td>\n",
       "      <td>3843.8</td>\n",
       "      <td>3843.4</td>\n",
       "      <td>3.000000</td>\n",
       "      <td>34.000000</td>\n",
       "      <td>37.0</td>\n",
       "      <td>-30</td>\n",
       "      <td>3843.0</td>\n",
       "      <td>3842.8</td>\n",
       "      <td>3842.4</td>\n",
       "      <td>...</td>\n",
       "      <td>13</td>\n",
       "      <td>12</td>\n",
       "      <td>2</td>\n",
       "      <td>4</td>\n",
       "      <td>2</td>\n",
       "      <td>7</td>\n",
       "      <td>1</td>\n",
       "      <td>2</td>\n",
       "      <td>11</td>\n",
       "      <td>1</td>\n",
       "    </tr>\n",
       "    <tr>\n",
       "      <th>4</th>\n",
       "      <td>4</td>\n",
       "      <td>3843.2</td>\n",
       "      <td>3843.1</td>\n",
       "      <td>3.000000</td>\n",
       "      <td>38.000000</td>\n",
       "      <td>41.0</td>\n",
       "      <td>-35</td>\n",
       "      <td>3842.8</td>\n",
       "      <td>3842.4</td>\n",
       "      <td>3842.0</td>\n",
       "      <td>...</td>\n",
       "      <td>12</td>\n",
       "      <td>2</td>\n",
       "      <td>2</td>\n",
       "      <td>4</td>\n",
       "      <td>1</td>\n",
       "      <td>3</td>\n",
       "      <td>1</td>\n",
       "      <td>11</td>\n",
       "      <td>15</td>\n",
       "      <td>1</td>\n",
       "    </tr>\n",
       "  </tbody>\n",
       "</table>\n",
       "<p>5 rows × 28 columns</p>\n",
       "</div>"
      ],
      "text/plain": [
       "   id  last_price     mid  opened_position_qty   closed_position_qty  \\\n",
       "0   0      3842.4  3842.6              1.400583             1.964277   \n",
       "1   1      3842.8  3843.4              6.000000            49.000000   \n",
       "2   2      3844.0  3844.3              7.000000            77.000000   \n",
       "3   3      3843.8  3843.4              3.000000            34.000000   \n",
       "4   4      3843.2  3843.1              3.000000            38.000000   \n",
       "\n",
       "   transacted_qty  d_open_interest    bid1    bid2    bid3  ...  bid2vol  \\\n",
       "0           103.0                0  3842.4  3842.0  3841.8  ...        1   \n",
       "1            55.0              -43  3843.0  3842.8  3842.4  ...        6   \n",
       "2            84.0              -69  3843.8  3843.6  3843.2  ...        1   \n",
       "3            37.0              -30  3843.0  3842.8  3842.4  ...       13   \n",
       "4            41.0              -35  3842.8  3842.4  3842.0  ...       12   \n",
       "\n",
       "   bid3vol  bid4vol  bid5vol  ask1vol  ask2vol  ask3vol  ask4vol  ask5vol  y  \n",
       "0        6       14        6        6        1        1       10        2  1  \n",
       "1       11        1        6        1        4        4        1       13  0  \n",
       "2        4       21       12        1       16       10        4        9  0  \n",
       "3       12        2        4        2        7        1        2       11  1  \n",
       "4        2        2        4        1        3        1       11       15  1  \n",
       "\n",
       "[5 rows x 28 columns]"
      ]
     },
     "execution_count": 100,
     "metadata": {},
     "output_type": "execute_result"
    }
   ],
   "source": [
    "# Preview training set data\n",
    "train.head()"
   ]
  },
  {
   "cell_type": "code",
   "execution_count": 101,
   "metadata": {},
   "outputs": [
    {
     "data": {
      "text/html": [
       "<div>\n",
       "<style scoped>\n",
       "    .dataframe tbody tr th:only-of-type {\n",
       "        vertical-align: middle;\n",
       "    }\n",
       "\n",
       "    .dataframe tbody tr th {\n",
       "        vertical-align: top;\n",
       "    }\n",
       "\n",
       "    .dataframe thead th {\n",
       "        text-align: right;\n",
       "    }\n",
       "</style>\n",
       "<table border=\"1\" class=\"dataframe\">\n",
       "  <thead>\n",
       "    <tr style=\"text-align: right;\">\n",
       "      <th></th>\n",
       "      <th>last_price</th>\n",
       "      <th>mid</th>\n",
       "      <th>opened_position_qty</th>\n",
       "      <th>closed_position_qty</th>\n",
       "      <th>transacted_qty</th>\n",
       "      <th>d_open_interest</th>\n",
       "      <th>bid1</th>\n",
       "      <th>bid2</th>\n",
       "      <th>bid3</th>\n",
       "      <th>bid4</th>\n",
       "      <th>...</th>\n",
       "      <th>bid1vol</th>\n",
       "      <th>bid2vol</th>\n",
       "      <th>bid3vol</th>\n",
       "      <th>bid4vol</th>\n",
       "      <th>bid5vol</th>\n",
       "      <th>ask1vol</th>\n",
       "      <th>ask2vol</th>\n",
       "      <th>ask3vol</th>\n",
       "      <th>ask4vol</th>\n",
       "      <th>ask5vol</th>\n",
       "    </tr>\n",
       "  </thead>\n",
       "  <tbody>\n",
       "    <tr>\n",
       "      <th>0</th>\n",
       "      <td>5178.4</td>\n",
       "      <td>5178.3</td>\n",
       "      <td>1.000000</td>\n",
       "      <td>11.000000</td>\n",
       "      <td>12.0</td>\n",
       "      <td>-10</td>\n",
       "      <td>5178.2</td>\n",
       "      <td>5178.0</td>\n",
       "      <td>5177.8</td>\n",
       "      <td>5177.6</td>\n",
       "      <td>...</td>\n",
       "      <td>3</td>\n",
       "      <td>16</td>\n",
       "      <td>3</td>\n",
       "      <td>1</td>\n",
       "      <td>1</td>\n",
       "      <td>1</td>\n",
       "      <td>4</td>\n",
       "      <td>1</td>\n",
       "      <td>5</td>\n",
       "      <td>2</td>\n",
       "    </tr>\n",
       "    <tr>\n",
       "      <th>1</th>\n",
       "      <td>5133.0</td>\n",
       "      <td>5132.9</td>\n",
       "      <td>1.000000</td>\n",
       "      <td>0.000000</td>\n",
       "      <td>1.0</td>\n",
       "      <td>1</td>\n",
       "      <td>5132.8</td>\n",
       "      <td>5132.6</td>\n",
       "      <td>5132.4</td>\n",
       "      <td>5132.2</td>\n",
       "      <td>...</td>\n",
       "      <td>1</td>\n",
       "      <td>2</td>\n",
       "      <td>2</td>\n",
       "      <td>1</td>\n",
       "      <td>10</td>\n",
       "      <td>4</td>\n",
       "      <td>8</td>\n",
       "      <td>1</td>\n",
       "      <td>1</td>\n",
       "      <td>1</td>\n",
       "    </tr>\n",
       "    <tr>\n",
       "      <th>2</th>\n",
       "      <td>5177.4</td>\n",
       "      <td>5178.0</td>\n",
       "      <td>2.000000</td>\n",
       "      <td>0.000000</td>\n",
       "      <td>2.0</td>\n",
       "      <td>2</td>\n",
       "      <td>5177.2</td>\n",
       "      <td>5176.8</td>\n",
       "      <td>5176.6</td>\n",
       "      <td>5176.4</td>\n",
       "      <td>...</td>\n",
       "      <td>8</td>\n",
       "      <td>18</td>\n",
       "      <td>1</td>\n",
       "      <td>1</td>\n",
       "      <td>6</td>\n",
       "      <td>7</td>\n",
       "      <td>4</td>\n",
       "      <td>1</td>\n",
       "      <td>2</td>\n",
       "      <td>5</td>\n",
       "    </tr>\n",
       "    <tr>\n",
       "      <th>3</th>\n",
       "      <td>5093.6</td>\n",
       "      <td>5093.9</td>\n",
       "      <td>0.000000</td>\n",
       "      <td>2.000000</td>\n",
       "      <td>2.0</td>\n",
       "      <td>-1</td>\n",
       "      <td>5093.2</td>\n",
       "      <td>5093.0</td>\n",
       "      <td>5092.8</td>\n",
       "      <td>5092.2</td>\n",
       "      <td>...</td>\n",
       "      <td>8</td>\n",
       "      <td>5</td>\n",
       "      <td>4</td>\n",
       "      <td>3</td>\n",
       "      <td>1</td>\n",
       "      <td>1</td>\n",
       "      <td>1</td>\n",
       "      <td>11</td>\n",
       "      <td>6</td>\n",
       "      <td>2</td>\n",
       "    </tr>\n",
       "    <tr>\n",
       "      <th>4</th>\n",
       "      <td>5189.2</td>\n",
       "      <td>5189.2</td>\n",
       "      <td>1.444629</td>\n",
       "      <td>1.936579</td>\n",
       "      <td>0.0</td>\n",
       "      <td>0</td>\n",
       "      <td>5188.8</td>\n",
       "      <td>5188.6</td>\n",
       "      <td>5188.4</td>\n",
       "      <td>5188.2</td>\n",
       "      <td>...</td>\n",
       "      <td>1</td>\n",
       "      <td>5</td>\n",
       "      <td>1</td>\n",
       "      <td>3</td>\n",
       "      <td>3</td>\n",
       "      <td>3</td>\n",
       "      <td>2</td>\n",
       "      <td>1</td>\n",
       "      <td>3</td>\n",
       "      <td>4</td>\n",
       "    </tr>\n",
       "  </tbody>\n",
       "</table>\n",
       "<p>5 rows × 26 columns</p>\n",
       "</div>"
      ],
      "text/plain": [
       "   last_price     mid  opened_position_qty   closed_position_qty  \\\n",
       "0      5178.4  5178.3              1.000000            11.000000   \n",
       "1      5133.0  5132.9              1.000000             0.000000   \n",
       "2      5177.4  5178.0              2.000000             0.000000   \n",
       "3      5093.6  5093.9              0.000000             2.000000   \n",
       "4      5189.2  5189.2              1.444629             1.936579   \n",
       "\n",
       "   transacted_qty  d_open_interest    bid1    bid2    bid3    bid4  ...  \\\n",
       "0            12.0              -10  5178.2  5178.0  5177.8  5177.6  ...   \n",
       "1             1.0                1  5132.8  5132.6  5132.4  5132.2  ...   \n",
       "2             2.0                2  5177.2  5176.8  5176.6  5176.4  ...   \n",
       "3             2.0               -1  5093.2  5093.0  5092.8  5092.2  ...   \n",
       "4             0.0                0  5188.8  5188.6  5188.4  5188.2  ...   \n",
       "\n",
       "   bid1vol  bid2vol  bid3vol  bid4vol  bid5vol  ask1vol  ask2vol  ask3vol  \\\n",
       "0        3       16        3        1        1        1        4        1   \n",
       "1        1        2        2        1       10        4        8        1   \n",
       "2        8       18        1        1        6        7        4        1   \n",
       "3        8        5        4        3        1        1        1       11   \n",
       "4        1        5        1        3        3        3        2        1   \n",
       "\n",
       "   ask4vol  ask5vol  \n",
       "0        5        2  \n",
       "1        1        1  \n",
       "2        2        5  \n",
       "3        6        2  \n",
       "4        3        4  \n",
       "\n",
       "[5 rows x 26 columns]"
      ]
     },
     "execution_count": 101,
     "metadata": {},
     "output_type": "execute_result"
    }
   ],
   "source": [
    "# Preview test set data\n",
    "test.head()"
   ]
  },
  {
   "cell_type": "code",
   "execution_count": 102,
   "metadata": {},
   "outputs": [
    {
     "name": "stdout",
     "output_type": "stream",
     "text": [
      "(592380, 28)\n",
      "(191859, 26)\n"
     ]
    }
   ],
   "source": [
    "print(train.shape)\n",
    "print(test.shape)"
   ]
  },
  {
   "cell_type": "code",
   "execution_count": 103,
   "metadata": {},
   "outputs": [],
   "source": [
    "train_X, test_X, train_y, test_y = train_test_split(train.loc[:,'last_price':'ask5vol'], \n",
    "                                                    train.loc[:,'y'], test_size=0.2, random_state=155155155)"
   ]
  },
  {
   "cell_type": "code",
   "execution_count": 104,
   "metadata": {},
   "outputs": [],
   "source": [
    "# Normalize training and validation data\n",
    "min_max_scaler = preprocessing.MinMaxScaler()\n",
    "train_norm = min_max_scaler.fit_transform(train_X)\n",
    "train_X = pd.DataFrame(train_norm)\n",
    "val_norm = min_max_scaler.fit_transform(test_X)\n",
    "test_X = pd.DataFrame(val_norm)\n",
    "\n",
    "# Normalize test set data\n",
    "test_norm = min_max_scaler.fit_transform(test.to_numpy())\n",
    "test = pd.DataFrame(test_norm)"
   ]
  },
  {
   "cell_type": "code",
   "execution_count": 105,
   "metadata": {
    "scrolled": true
   },
   "outputs": [
    {
     "name": "stdout",
     "output_type": "stream",
     "text": [
      "0.9460217643428674\n",
      "3.786814551039572e+16\n"
     ]
    }
   ],
   "source": [
    "# Linear Regression\n",
    "lin_reg = LinearRegression().fit(train_X, train_y)\n",
    "print(1 - lin_reg.score(train_X, train_y))\n",
    "print(1 - lin_reg.score(test_X, test_y))"
   ]
  },
  {
   "cell_type": "code",
   "execution_count": 106,
   "metadata": {},
   "outputs": [
    {
     "name": "stdout",
     "output_type": "stream",
     "text": [
      "Training classification error: 0.35424896181505117\n",
      "Validation classification error: 0.3557851379182282\n"
     ]
    }
   ],
   "source": [
    "# Linear SVC \n",
    "svc = LinearSVC().fit(train_X, train_y)\n",
    "print('Training classification error: ' + str(1 - svc.score(train_X, train_y)))\n",
    "print('Validation classification error: ' + str(1 - svc.score(test_X, test_y)))"
   ]
  },
  {
   "cell_type": "code",
   "execution_count": 107,
   "metadata": {},
   "outputs": [
    {
     "name": "stdout",
     "output_type": "stream",
     "text": [
      "Training classification error: 0.3556956683210102\n"
     ]
    }
   ],
   "source": [
    "# Logistic Regression on original dataset\n",
    "log_reg = LogisticRegression().fit(train.loc[:,'last_price':'ask5vol'], train.loc[:,'y'])\n",
    "print('Training classification error: ' + str(1 - log_reg.score(train.loc[:,'last_price':'ask5vol'], train.loc[:,'y'])))\n",
    "# print('Validation classification error: ' + str(1 - log_reg.score(test_X, test_y)))\n",
    "\n",
    "# Predict probabilities on validation set\n",
    "lr_pred = log_reg.predict_proba(test.to_numpy())\n",
    "# Probabilities of being labeled 1\n",
    "lr_pred = pd.DataFrame(lr_pred[:,1], columns=['Predicted'])\n",
    "lr_pred.insert(0, 'id', test_ids)\n",
    "lr_pred.to_csv(\"lr_probs_whole_submission.csv\", index=False)"
   ]
  },
  {
   "cell_type": "code",
   "execution_count": 108,
   "metadata": {},
   "outputs": [
    {
     "name": "stdout",
     "output_type": "stream",
     "text": [
      "Training classification error: 0.35521962253958606\n",
      "Validation classification error: 0.35717782504473483\n"
     ]
    }
   ],
   "source": [
    "# Logistic Regression on train and test split\n",
    "log_reg = LogisticRegression(max_iter=100000).fit(train_X, train_y)\n",
    "print('Training classification error: ' + str(1 - log_reg.score(train_X, train_y)))\n",
    "print('Validation classification error: ' + str(1 - log_reg.score(test_X, test_y)))\n",
    "\n",
    "# # Predict labels on validation set\n",
    "# lr_pred = log_reg.predict(test.to_numpy())\n",
    "# lr_pred = pd.DataFrame(lr_pred, columns=['Predicted'])\n",
    "# lr_pred.insert(0, 'id', test_ids)\n",
    "# lr_pred.to_csv(\"lr_labels_submission.csv\", index=False)\n",
    "\n",
    "# Predict probabilities on validation set\n",
    "lr_pred = log_reg.predict_proba(test.to_numpy())\n",
    "# Probabilities of being labeled 1\n",
    "lr_pred = pd.DataFrame(lr_pred[:,1], columns=['Predicted'])\n",
    "lr_pred.insert(0, 'id', test_ids)\n",
    "lr_pred.to_csv(\"lr_probs_split_submission2.csv\", index=False)"
   ]
  },
  {
   "cell_type": "code",
   "execution_count": 109,
   "metadata": {},
   "outputs": [
    {
     "name": "stdout",
     "output_type": "stream",
     "text": [
      "Training classification error: 0.3566123096660927\n",
      "Test classification error: 0.35834261791417676\n"
     ]
    }
   ],
   "source": [
    "# SGD Classifier - high errors\n",
    "sgd_reg = SGDClassifier(early_stopping=True)\n",
    "sgd_reg.fit(train_X, train_y)\n",
    "print('Training classification error: ' + str(1 - sgd_reg.score(train_X, train_y)))\n",
    "print('Test classification error: ' + str(1 - sgd_reg.score(test_X, test_y)))"
   ]
  },
  {
   "cell_type": "code",
   "execution_count": 110,
   "metadata": {},
   "outputs": [
    {
     "name": "stdout",
     "output_type": "stream",
     "text": [
      "Training classification error: 0.34522392720888617\n",
      "Validation classification error: 0.3457746716634593\n"
     ]
    }
   ],
   "source": [
    "# Gradient Boosting Classifier - best so far\n",
    "grad_boost = GradientBoostingClassifier().fit(train_X, train_y)\n",
    "print('Training classification error: ' + str(1 - grad_boost.score(train_X, train_y)))\n",
    "print('Validation classification error: ' + str(1 - grad_boost.score(test_X, test_y)))\n",
    "\n",
    "# Predict probabilities on validation set\n",
    "grad_pred = grad_boost.predict_proba(test.to_numpy())\n",
    "# Probabilities of being labeled 1\n",
    "grad_pred = pd.DataFrame(grad_pred[:,1], columns=['Predicted'])\n",
    "grad_pred.insert(0, 'id', test_ids)\n",
    "grad_pred.to_csv(\"grad_probs_submission.csv\", index=False)"
   ]
  },
  {
   "cell_type": "code",
   "execution_count": 113,
   "metadata": {},
   "outputs": [
    {
     "name": "stdout",
     "output_type": "stream",
     "text": [
      "Training classification error: 0.3476885613964009\n",
      "Validation classification error: 0.34958134980924405\n"
     ]
    }
   ],
   "source": [
    "# Adaboost Classifier - predicted probabilities are similar\n",
    "ada_boost = AdaBoostClassifier(n_estimators=100).fit(train_X, train_y)\n",
    "print('Training classification error: ' + str(1 - ada_boost.score(train_X, train_y)))\n",
    "print('Validation classification error: ' + str(1 - ada_boost.score(test_X, test_y)))\n",
    "\n",
    "# Predict probabilities on validation set\n",
    "ada_pred = ada_boost.predict_proba(test.to_numpy())\n",
    "# Probabilities of being labeled 1\n",
    "ada_pred = pd.DataFrame(ada_pred[:,1], columns=['Predicted'])\n",
    "ada_pred.insert(0, 'id', test_ids)\n",
    "ada_pred.to_csv(\"ada_probs_submission.csv\", index=False)"
   ]
  },
  {
   "cell_type": "code",
   "execution_count": 114,
   "metadata": {},
   "outputs": [
    {
     "name": "stdout",
     "output_type": "stream",
     "text": [
      "Training classification error: 0.3726999561092542\n",
      "Validation classification error: 0.4520240386238563\n"
     ]
    }
   ],
   "source": [
    "# Gaussian NB Classifier\n",
    "gauss_boost = GaussianNB().fit(train_X, train_y)\n",
    "print('Training classification error: ' + str(1 - gauss_boost.score(train_X, train_y)))\n",
    "print('Validation classification error: ' + str(1 - gauss_boost.score(test_X, test_y)))"
   ]
  },
  {
   "cell_type": "code",
   "execution_count": 115,
   "metadata": {},
   "outputs": [
    {
     "name": "stdout",
     "output_type": "stream",
     "text": [
      "Training classification error: 0.0035007090043552846\n",
      "Validation classification error: 0.43754009250818726\n"
     ]
    }
   ],
   "source": [
    "# Decision Tree Classifier\n",
    "min_samples_leaf = np.arange(1, 26)\n",
    "\n",
    "tree = DecisionTreeClassifier(random_state=0).fit(train_X, train_y)\n",
    "print('Training classification error: ' + str(1 - tree.score(train_X, train_y)))\n",
    "print('Validation classification error: ' + str(1 - tree.score(test_X, test_y)))"
   ]
  },
  {
   "cell_type": "code",
   "execution_count": 116,
   "metadata": {},
   "outputs": [
    {
     "name": "stdout",
     "output_type": "stream",
     "text": [
      "Training classification error: 0.0035070394003848815\n",
      "Validation classification error: 0.3497586008980722\n"
     ]
    }
   ],
   "source": [
    "# Random Forest\n",
    "forest = RandomForestClassifier(random_state=0).fit(train_X, train_y)\n",
    "print('Training classification error: ' + str(1 - forest.score(train_X, train_y)))\n",
    "print('Validation classification error: ' + str(1 - forest.score(test_X, test_y)))\n",
    "\n",
    "# Predict probabilities on validation set\n",
    "forest_pred = forest.predict_proba(test.to_numpy())\n",
    "# Probabilities of being labeled 1\n",
    "forest_pred = pd.DataFrame(forest_pred[:,1], columns=['Predicted'])\n",
    "forest_pred.insert(0, 'id', test_ids)\n",
    "forest_pred.to_csv(\"forest_probs_submission.csv\", index=False)"
   ]
  },
  {
   "cell_type": "code",
   "execution_count": 118,
   "metadata": {},
   "outputs": [
    {
     "name": "stdout",
     "output_type": "stream",
     "text": [
      "Training classification error: 0.35018906782808334\n",
      "Validation classification error: 0.3505773321178973\n"
     ]
    }
   ],
   "source": [
    "# Voting Classifier 1\n",
    "estimators=[('grad_boost', grad_boost), ('lr', log_reg), ('ada_boost', ada_boost)]\n",
    "#create our voting classifier, inputting our models\n",
    "ensemble1 = VotingClassifier(estimators, voting='soft')\n",
    "ensemble1.fit(train_X, train_y)\n",
    "print('Training classification error: ' + str(1 - ensemble1.score(train_X, train_y)))\n",
    "print('Validation classification error: ' + str(1 - ensemble1.score(test_X, test_y)))\n",
    "\n",
    "# Predict probabilities for 1st voting classifier\n",
    "vot_pred1 = ensemble1.predict_proba(test.to_numpy())\n",
    "# Probabilities of being labeled 1\n",
    "vot_pred1 = pd.DataFrame(vot_pred1[:,1], columns=['Predicted'])\n",
    "vot_pred1.insert(0, 'id', test_ids)\n",
    "vot_pred1.to_csv(\"voting_probs_submission1.csv\", index=False)"
   ]
  },
  {
   "cell_type": "code",
   "execution_count": 119,
   "metadata": {},
   "outputs": [
    {
     "name": "stdout",
     "output_type": "stream",
     "text": [
      "Training classification error: 0.005165603160133703\n",
      "Validation classification error: 0.3937421925115635\n"
     ]
    }
   ],
   "source": [
    "# Voting Classifier 2\n",
    "estimators=[('grad_boost', grad_boost), ('rf', forest), ('lr', log_reg), ('decision', tree)]\n",
    "#create our voting classifier, inputting our models\n",
    "ensemble2 = VotingClassifier(estimators, voting='soft')\n",
    "ensemble2.fit(train_X, train_y)\n",
    "print('Training classification error: ' + str(1 - ensemble2.score(train_X, train_y)))\n",
    "print('Validation classification error: ' + str(1 - ensemble2.score(test_X, test_y)))\n",
    "\n",
    "# Predict probabilities for 2nd voting classifier\n",
    "vot_pred2 = ensemble2.predict_proba(test.to_numpy())\n",
    "# Probabilities of being labeled 1\n",
    "vot_pred2 = pd.DataFrame(vot_pred2[:,1], columns=['Predicted'])\n",
    "vot_pred2.insert(0, 'id', test_ids)\n",
    "vot_pred2.to_csv(\"voting_probs_submission2.csv\", index=False)"
   ]
  }
 ],
 "metadata": {
  "kernelspec": {
   "display_name": "Python 3",
   "language": "python",
   "name": "python3"
  },
  "language_info": {
   "codemirror_mode": {
    "name": "ipython",
    "version": 3
   },
   "file_extension": ".py",
   "mimetype": "text/x-python",
   "name": "python",
   "nbconvert_exporter": "python",
   "pygments_lexer": "ipython3",
   "version": "3.6.9"
  }
 },
 "nbformat": 4,
 "nbformat_minor": 2
}
